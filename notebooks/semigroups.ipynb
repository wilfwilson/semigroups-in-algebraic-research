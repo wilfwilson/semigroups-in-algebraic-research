{
 "cells": [
  {
   "cell_type": "markdown",
   "metadata": {},
   "source": [
    "*“Computing with semigroups in GAP”* by [Wilf Wilson](http://wilf.me)<br />\n",
    "*“[GAP in Algebraic Research](https://lbfm-rwth.github.io/gap-in-algebraic-research-2018/)” summer school*<br />\n",
    "19<sup>th</sup> to 22<sup>nd</sup> November 2018<br />\n",
    "https://github.com/wilfwilson/semigroups-in-algebraic-research\n",
    "([Link to Binder](https://mybinder.org/v2/gh/wilfwilson/semigroups-in-algebraic-research/master))"
   ]
  },
  {
   "cell_type": "markdown",
   "metadata": {},
   "source": [
    "# The `Semigroups` package\n",
    "https://gap-packages.github.io/Semigroups\n",
    "\n",
    "**Author**: James D. Mitchell, plus many contributors (including me!)"
   ]
  },
  {
   "cell_type": "markdown",
   "metadata": {},
   "source": [
    "> The Semigroups package is a GAP package containing methods for semigroups, monoids, and inverse semigroups. There are particularly efficient methods for semigroups or ideals consisting of transformations, partial permutations, bipartitions, partitioned binary relations, subsemigroups of regular Rees 0-matrix semigroups, and matrices of various semirings including boolean matrices, matrices over finite fields, and certain tropical matrices."
   ]
  },
  {
   "cell_type": "markdown",
   "metadata": {},
   "source": [
    "The Semigroups package greatly extends the functionality in GAP for computing with semigroups. It is very actively developed. It mostly focuses on finite semigroups, but there the support for infinite semigroups is being improved."
   ]
  },
  {
   "cell_type": "markdown",
   "metadata": {},
   "source": [
    "It lets us run much more depending, and complicated, functions."
   ]
  },
  {
   "cell_type": "markdown",
   "metadata": {},
   "source": [
    "### Let's load the `Semigroups` package"
   ]
  },
  {
   "cell_type": "markdown",
   "metadata": {},
   "source": [
    "What version do we have installed?"
   ]
  },
  {
   "cell_type": "code",
   "execution_count": 1,
   "metadata": {},
   "outputs": [
    {
     "data": {
      "text/plain": [
       "\"3.0.20\""
      ]
     },
     "execution_count": 1,
     "metadata": {
      "text/plain": ""
     },
     "output_type": "execute_result"
    }
   ],
   "source": [
    "InstalledPackageVersion(\"semigroups\");"
   ]
  },
  {
   "cell_type": "markdown",
   "metadata": {},
   "source": [
    "If you're using Windows, you will most likely be using an old version of the package. You can use the new version by using a very modern version of GAP in a Jupyter notebook by clicking the link to binder at the top."
   ]
  },
  {
   "cell_type": "code",
   "execution_count": 2,
   "metadata": {},
   "outputs": [
    {
     "data": {
      "text/plain": [
       "true"
      ]
     },
     "execution_count": 2,
     "metadata": {
      "text/plain": ""
     },
     "output_type": "execute_result"
    }
   ],
   "source": [
    "LoadPackage(\"semigroups\");"
   ]
  },
  {
   "cell_type": "markdown",
   "metadata": {},
   "source": [
    "## The ideas behind computing with finite semigroups"
   ]
  },
  {
   "cell_type": "markdown",
   "metadata": {},
   "source": [
    "### 1. Make use of a suitable semigroup action inherent in the representation"
   ]
  },
  {
   "cell_type": "markdown",
   "metadata": {},
   "source": [
    "For example: transformation semigroups naturally act on $\\{1, \\ldots, n\\}$, and therefore on subsets of $\\{1, \\ldots, n\\}$. This action on subsets gives a huge amount of information about the semigroups, from which many semigroup-theoretic properties can be deduced."
   ]
  },
  {
   "cell_type": "markdown",
   "metadata": {},
   "source": [
    "### 2. Enumerate the whole semigroup and hope that the semigroup is not too big"
   ]
  },
  {
   "cell_type": "markdown",
   "metadata": {},
   "source": [
    "Sometimes we don't have such an action to go on, and so the best bet in these cases seems to be to full enumerate the whole semigroup, and store the information that we learn in a clever data structure.\n",
    "\n",
    "In particular, we use the Froidure-Pin algorithm to produce the left and right Cayley graphs of the semigroup, with respect to its generating set."
   ]
  },
  {
   "cell_type": "markdown",
   "metadata": {},
   "source": [
    "**We often encode information about a semigroup in a graph or a digraph, and then analyse that graph to solve problems about the semigroup.**"
   ]
  },
  {
   "cell_type": "markdown",
   "metadata": {},
   "source": [
    "## A project: semigroups of degree 8 and transformation representations"
   ]
  },
  {
   "cell_type": "markdown",
   "metadata": {},
   "source": [
    "* How many semigroups of order 8 can be represented by transformations on 9 points? All of them.\n",
    "* How many semigroups of order 8 can be represented by transformations on 2 points? None of them.\n",
    "* How many semigroups of order 8 can be represented by transformations on 3 points? Better question..."
   ]
  },
  {
   "cell_type": "markdown",
   "metadata": {},
   "source": [
    "We can find all subsemigroups of the full transformation monoid of degree $3$ by using the function `MaximalSubsemigroups`. This is something that I wrote during my PhD."
   ]
  },
  {
   "cell_type": "code",
   "execution_count": 3,
   "metadata": {},
   "outputs": [
    {
     "data": {
      "text/plain": [
       "function( S ) ... end"
      ]
     },
     "execution_count": 3,
     "metadata": {
      "text/plain": ""
     },
     "output_type": "execute_result"
    }
   ],
   "source": [
    "all_subs_8 := function(S)\n",
    "  local by_size, i, T, M;\n",
    "    \n",
    "  by_size := List(S, x -> []);\n",
    "  by_size[Size(S)] := [S];\n",
    "\n",
    "  for i in [Size(S), Size(S) - 1 .. 9] do\n",
    "    for T in by_size[i] do\n",
    "      for M in MaximalSubsemigroups(T) do\n",
    "        if Size(M) >= 8 then\n",
    "          if Size(M) = 8 then\n",
    "            Print(\"found: \", Length(by_size[8]), \"\\r\");\n",
    "          fi;\n",
    "          AddSet(by_size[Size(M)], M);\n",
    "        fi;\n",
    "      od;\n",
    "    od;\n",
    "  od;\n",
    "\n",
    "  Print(\"total: \", Length(by_size[8]), \"\\n\");\n",
    "  return by_size[8];\n",
    "end;"
   ]
  },
  {
   "cell_type": "code",
   "execution_count": 4,
   "metadata": {},
   "outputs": [
    {
     "name": "stdout",
     "output_type": "stream",
     "text": [
      "total: 144\n"
     ]
    }
   ],
   "source": [
    "subs := all_subs_8(FullTransformationMonoid(3));;"
   ]
  },
  {
   "cell_type": "code",
   "execution_count": 5,
   "metadata": {},
   "outputs": [
    {
     "data": {
      "text/plain": [
       "144"
      ]
     },
     "execution_count": 5,
     "metadata": {
      "text/plain": ""
     },
     "output_type": "execute_result"
    }
   ],
   "source": [
    "Length(subs);"
   ]
  },
  {
   "cell_type": "markdown",
   "metadata": {},
   "source": [
    "* How many semigroups of order 8 can be represented by transformations on 3 points, up to (anti-)isomorphism?"
   ]
  },
  {
   "cell_type": "markdown",
   "metadata": {},
   "source": [
    "Let's use `Smallsemi` for this."
   ]
  },
  {
   "cell_type": "code",
   "execution_count": 7,
   "metadata": {},
   "outputs": [
    {
     "data": {
      "text/plain": [
       "true"
      ]
     },
     "execution_count": 6,
     "metadata": {
      "text/plain": ""
     },
     "output_type": "execute_result"
    }
   ],
   "source": [
    "LoadPackage(\"smallsemi\");\n",
    "SetInfoLevel(InfoSmallsemi, 0);"
   ]
  },
  {
   "cell_type": "markdown",
   "metadata": {},
   "source": [
    "**Warning: this seems to crash Binder. Don't run it in Binder**."
   ]
  },
  {
   "cell_type": "code",
   "execution_count": 8,
   "metadata": {},
   "outputs": [
    {
     "data": {
      "text/plain": [
       "[ [ 8, 10115423 ], [ 8, 10115424 ], [ 8, 10352877 ], [ 8, 10459370 ], [ 8, 10459375 ], [ 8, 10459392 ], [ 8, 10460646 ], [ 8, 10460648 ], [ 8, 10460650 ], [ 8, 10491977 ], [ 8, 10492053 ], [ 8, 10492054 ], [ 8, 10492059 ], [ 8, 10513988 ], [ 8, 10803791 ], [ 8, 10803796 ], [ 8, 10818299 ], [ 8, 10818305 ], [ 8, 10834111 ], [ 8, 10838263 ], [ 8, 10838264 ], [ 8, 10838268 ], [ 8, 10843164 ], [ 8, 10912170 ], [ 8, 10993762 ], [ 8, 10993830 ], [ 8, 10994970 ], [ 8, 11182378 ], [ 8, 11198296 ], [ 8, 11199402 ] ]"
      ]
     },
     "execution_count": 8,
     "metadata": {
      "text/plain": ""
     },
     "output_type": "execute_result"
    }
   ],
   "source": [
    "ids := Set(subs, IdSmallSemigroup);"
   ]
  },
  {
   "cell_type": "markdown",
   "metadata": {},
   "source": [
    "* Find a minimal degree transformation representation of `SmallSemigroup(8, 10993830);`."
   ]
  },
  {
   "cell_type": "code",
   "execution_count": 9,
   "metadata": {},
   "outputs": [
    {
     "data": {
      "text/plain": [
       "<transformation monoid of size 8, degree 3 with 11 generators>"
      ]
     },
     "execution_count": 9,
     "metadata": {
      "text/plain": ""
     },
     "output_type": "execute_result"
    }
   ],
   "source": [
    "T := First(subs, S -> IdSmallSemigroup(S) = [8, 10993830]);"
   ]
  },
  {
   "cell_type": "code",
   "execution_count": 10,
   "metadata": {},
   "outputs": [
    {
     "data": {
      "text/plain": [
       "function( S, T ) ... end"
      ]
     },
     "execution_count": 10,
     "metadata": {
      "text/plain": ""
     },
     "output_type": "execute_result"
    }
   ],
   "source": [
    "isomorphic := function(S, T)\n",
    "    return SmallestMultiplicationTable(S)\n",
    "    = SmallestMultiplicationTable(T);\n",
    "end;"
   ]
  },
  {
   "cell_type": "code",
   "execution_count": 11,
   "metadata": {},
   "outputs": [
    {
     "data": {
      "text/plain": [
       "true"
      ]
     },
     "execution_count": 11,
     "metadata": {
      "text/plain": ""
     },
     "output_type": "execute_result"
    }
   ],
   "source": [
    "isomorphic(SmallSemigroup(8, 10993830), T);"
   ]
  },
  {
   "cell_type": "markdown",
   "metadata": {},
   "source": [
    "**Hooray! This means that `SmallSemigroup(8, 10993830)` can be represented as a transformation semigroup of degree 3**"
   ]
  },
  {
   "cell_type": "markdown",
   "metadata": {},
   "source": [
    "Remember that there are..."
   ]
  },
  {
   "cell_type": "code",
   "execution_count": 12,
   "metadata": {},
   "outputs": [
    {
     "data": {
      "text/plain": [
       "1843120128"
      ]
     },
     "execution_count": 12,
     "metadata": {
      "text/plain": ""
     },
     "output_type": "execute_result"
    }
   ],
   "source": [
    "NrSmallSemigroups(8);"
   ]
  },
  {
   "cell_type": "markdown",
   "metadata": {},
   "source": [
    "...semigroups of order 8, up to isomorphism and anti-isomorphism, but only 30 of them appear in the full transformation monoid of degree 8."
   ]
  },
  {
   "cell_type": "markdown",
   "metadata": {},
   "source": [
    "## Advanced exercise: synchronizing semigroups"
   ]
  },
  {
   "cell_type": "markdown",
   "metadata": {},
   "source": [
    "A transformation semigroup of degree $n$ is *synchronizing* if it contains an element that is constant on $\\{1, \\ldots, n\\}$."
   ]
  },
  {
   "cell_type": "markdown",
   "metadata": {},
   "source": [
    "There is an efficient built-in function in the Semigroups package called `IsSynchronizingSemigroup` to test for this property."
   ]
  },
  {
   "cell_type": "markdown",
   "metadata": {},
   "source": [
    "I would like you to re-implement this function!"
   ]
  },
  {
   "cell_type": "markdown",
   "metadata": {},
   "source": [
    "1. Write a function to test whether a transformation is constant on the points `[1 .. n]`, for a given `n`. **Hint: a transformation `f` acts on a point `i` via `i ^ f`.**"
   ]
  },
  {
   "cell_type": "markdown",
   "metadata": {},
   "source": [
    "2. Write an initial function `is_synchronizing_basic` that tests whether a transformation semigroup `S` is synchronzing by iterating over all elements, and checking whether any element is a constant. Test your function on the following semigroups:"
   ]
  },
  {
   "cell_type": "code",
   "execution_count": 13,
   "metadata": {},
   "outputs": [],
   "source": [
    "S1 := Semigroup([\n",
    "Transformation( [ 5, 6, 3, 1, 5, 4 ] ),\n",
    "Transformation( [ 1, 2, 3, 5, 2 ] ),\n",
    "Transformation( [ 4, 6, 3, 5, 2, 1 ] )]);;"
   ]
  },
  {
   "cell_type": "code",
   "execution_count": 14,
   "metadata": {},
   "outputs": [],
   "source": [
    "S2 := Semigroup([\n",
    "Transformation( [ 4, 1, 2, 6, 2, 3 ] ),\n",
    "Transformation( [ 3, 1, 2, 5, 1, 1 ] ),\n",
    "Transformation( [ 1, 1, 3, 6, 5, 6 ] )]);;"
   ]
  },
  {
   "cell_type": "markdown",
   "metadata": {},
   "source": [
    "Let $S$ be a transformation semigroup of degree $n$ generated by a set $X$."
   ]
  },
  {
   "cell_type": "markdown",
   "metadata": {},
   "source": [
    "Consider the following digraph, called *the digraph of the action on pairs*: the vertices are the singleton subsets, and the 2-subsets, of $\\{1, \\ldots, n\\}$, and there is a directed edge from each 2-subset $A$ to the subset $A ^ f$, for each $f \\in X$."
   ]
  },
  {
   "cell_type": "markdown",
   "metadata": {},
   "source": [
    "**Lemma** Let $S$ be a transformation semigroup of degree $n$ generated by a set $X$. Then $S$ is synchronizing if and only if for every pair $A$ of points in $\\{1, \\ldots, n\\}$, there is a path in the digraph of the action on pairs from $A$ in the digraph to some singleton."
   ]
  },
  {
   "cell_type": "markdown",
   "metadata": {},
   "source": [
    "3. Prove this lemma, if you feel like it."
   ]
  },
  {
   "cell_type": "markdown",
   "metadata": {},
   "source": [
    "4. Let $n \\in \\mathbb{N}$. There are ${n}\\choose{2}$ 2-subsets of $\\{1, \\ldots, n\\}$, and $n$ singleton subsets. Decide a canonical ordering for these ${n \\choose 2} + n$ subsets.  Create a function in GAP that is a bijection from these subsets to the numbers $\\{1, \\ldots, {n \\choose 2} + n\\}$; and create the inverse function."
   ]
  },
  {
   "cell_type": "markdown",
   "metadata": {},
   "source": [
    "4. Write a function which, given a transformation semigroup of degree $n$ generated by a set, returns the digraph of the action on pairs of that semigroup. The digraph could be stored as an adjacency matrix, or as a list of adjacencies."
   ]
  },
  {
   "cell_type": "markdown",
   "metadata": {},
   "source": [
    "5. Write a function which, given a digraph of the action on pairs (relative to some transformation semigroup of degree $n$), and a 2-subset of $\\{1, \\ldots, n\\}$, determines whether there is a path in the digraph from the 2-subset to a singleton."
   ]
  },
  {
   "cell_type": "markdown",
   "metadata": {},
   "source": [
    "6. Write a function `is_synchronizing_better` that solves uses this digraph to compute whether a transformation semigroup is synchronizing. Test your function on the following examples:"
   ]
  },
  {
   "cell_type": "code",
   "execution_count": 15,
   "metadata": {},
   "outputs": [],
   "source": [
    "S3 := FullTransformationMonoid(100);;"
   ]
  },
  {
   "cell_type": "code",
   "execution_count": 16,
   "metadata": {},
   "outputs": [],
   "source": [
    "S4 := DirectProduct(\n",
    "FullTransformationMonoid(50),\n",
    "FullTransformationMonoid(50));;"
   ]
  },
  {
   "cell_type": "markdown",
   "metadata": {},
   "source": [
    "That's it..."
   ]
  }
 ],
 "metadata": {
  "kernelspec": {
   "display_name": "GAP 4",
   "language": "gap",
   "name": "gap-4"
  },
  "language_info": {
   "codemirror_mode": "gap",
   "file_extension": ".g",
   "mimetype": "text/x-gap",
   "name": "GAP 4",
   "nbconvert_exporter": "",
   "pygments_lexer": "gap",
   "version": "4.dev"
  }
 },
 "nbformat": 4,
 "nbformat_minor": 2
}
