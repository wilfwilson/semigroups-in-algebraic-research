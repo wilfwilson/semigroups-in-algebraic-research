{
 "cells": [
  {
   "cell_type": "markdown",
   "metadata": {},
   "source": [
    "*“Computing with semigroups in GAP”* by [Wilf Wilson](http://wilf.me)<br />\n",
    "*“[GAP in Algebraic Research](https://lbfm-rwth.github.io/gap-in-algebraic-research-2018/)” summer school*<br />\n",
    "19<sup>th</sup> to 22<sup>nd</sup> November 2018<br />\n",
    "https://github.com/wilfwilson/semigroups-in-algebraic-research\n",
    "([Link to Binder](https://mybinder.org/v2/gh/wilfwilson/semigroups-in-algebraic-research/master))"
   ]
  },
  {
   "cell_type": "markdown",
   "metadata": {},
   "source": [
    "# The `NumericalSgps` package\n",
    "https://gap-packages.github.io/numericalsgps\n",
    "\n",
    "**Authors**: Manuel Delgado, Pedro A. Garcia-Sanchez, Jose Morais"
   ]
  },
  {
   "cell_type": "markdown",
   "metadata": {},
   "source": [
    "> The NumericalSgps package, is a package to compute with numerical semigroups."
   ]
  },
  {
   "cell_type": "markdown",
   "metadata": {},
   "source": [
    "**Definition**: a *numerical semigroup* is a submonoid of the natural numbers $\\mathbb{N} = \\{0, 1, 2, \\ldots\\}$, with addition, whose complement is finite. Note that a numerical semigroup is required to contain $0$."
   ]
  },
  {
   "cell_type": "markdown",
   "metadata": {},
   "source": [
    "#### Some observations.\n",
    "* For some $n \\in \\mathbb{N}$, a numerical semigroup contains:\n",
    "  * $0$; and\n",
    "  * *some* of the numbers in $\\{1, \\ldots, n\\}$; and\n",
    "  * *all* of the numbers greater than $n$.\n",
    "* If a numerical semigroup contains some $x$, then it contains all multiples of $x$."
   ]
  },
  {
   "cell_type": "markdown",
   "metadata": {},
   "source": [
    "### Let's load the `NumericalSgps` package"
   ]
  },
  {
   "cell_type": "markdown",
   "metadata": {},
   "source": [
    "What version do we have installed?"
   ]
  },
  {
   "cell_type": "code",
   "execution_count": 1,
   "metadata": {},
   "outputs": [
    {
     "data": {
      "text/plain": [
       "\"1.1.10 dev\""
      ]
     },
     "execution_count": 1,
     "metadata": {
      "text/plain": ""
     },
     "output_type": "execute_result"
    }
   ],
   "source": [
    "InstalledPackageVersion(\"numericalsgps\");"
   ]
  },
  {
   "cell_type": "code",
   "execution_count": 2,
   "metadata": {},
   "outputs": [
    {
     "name": "stdout",
     "output_type": "stream",
     "text": [
      "----------------------------------------------------------------\n",
      "Loading  NumericalSgps 1.1.10 dev\n",
      "For help, type: ?NumericalSgps: \n",
      "To gain profit from other packages, please refer to chapter\n",
      "'External Packages' in the manual, or type: ?NumSgpsUse \n",
      "----------------------------------------------------------------\n"
     ]
    },
    {
     "data": {
      "text/plain": [
       "true"
      ]
     },
     "execution_count": 2,
     "metadata": {
      "text/plain": ""
     },
     "output_type": "execute_result"
    }
   ],
   "source": [
    "LoadPackage(\"numericalsgps\");"
   ]
  },
  {
   "cell_type": "markdown",
   "metadata": {},
   "source": [
    "### Some of the features of the `NumericalSgps` package\n",
    "\n",
    "From the website:\n",
    "> * Defining numerical semigroups;\n",
    "> * Computing several properties of numerical semigroups, namely: multiplicity, Frobenius number, (minimal) system of generators, Apéry set, gaps, fundamental gaps, etc\n",
    "> * Performing several operations on numerical semigroups and ideals, namely: intersection, quotient by an integer, decompose into irreducible semigroups, add a special gap...\n",
    "> * Computing and testing membership to relevant families of numerical semigroups"
   ]
  },
  {
   "cell_type": "markdown",
   "metadata": {},
   "source": [
    "## Constructing and comparing numerical semigroups in GAP"
   ]
  },
  {
   "cell_type": "markdown",
   "metadata": {},
   "source": [
    "### Construction by generators"
   ]
  },
  {
   "cell_type": "markdown",
   "metadata": {},
   "source": [
    "By definition, the complement of a numerical semigroup is finite.\n",
    "\n",
    "**Lemma:** Let $S$ be a numerical semigroup. Then the greatest common divisor of the generators of $S$ is $1$.\n",
    "\n",
    "**Proof:** Suppose that every generator of $S$ is divisible by some $d > 1$: then every element of $S$ is divisible by $d$, and the completement $\\mathbb{N} \\setminus S$ is infinite."
   ]
  },
  {
   "cell_type": "code",
   "execution_count": 3,
   "metadata": {},
   "outputs": [
    {
     "data": {
      "text/plain": [
       "The numerical semigroup N"
      ]
     },
     "execution_count": 3,
     "metadata": {
      "text/plain": ""
     },
     "output_type": "execute_result"
    }
   ],
   "source": [
    "S := NumericalSemigroup(1);"
   ]
  },
  {
   "cell_type": "code",
   "execution_count": 4,
   "metadata": {},
   "outputs": [
    {
     "data": {
      "text/plain": [
       "Numerical semigroup with 4 generators"
      ]
     },
     "execution_count": 4,
     "metadata": {
      "text/plain": ""
     },
     "output_type": "execute_result"
    }
   ],
   "source": [
    "T := NumericalSemigroup(2, 5, 7, 9);"
   ]
  },
  {
   "cell_type": "code",
   "execution_count": 5,
   "metadata": {},
   "outputs": [
    {
     "data": {
      "text/plain": [
       "false"
      ]
     },
     "execution_count": 5,
     "metadata": {
      "text/plain": ""
     },
     "output_type": "execute_result"
    }
   ],
   "source": [
    "T = S;"
   ]
  },
  {
   "cell_type": "code",
   "execution_count": 6,
   "metadata": {},
   "outputs": [
    {
     "data": {
      "text/plain": [
       "Numerical semigroup with 3 generators"
      ]
     },
     "execution_count": 6,
     "metadata": {
      "text/plain": ""
     },
     "output_type": "execute_result"
    }
   ],
   "source": [
    "U := NumericalSemigroup(3, 5, 7);"
   ]
  },
  {
   "cell_type": "code",
   "execution_count": 7,
   "metadata": {},
   "outputs": [
    {
     "data": {
      "text/plain": [
       "false"
      ]
     },
     "execution_count": 7,
     "metadata": {
      "text/plain": ""
     },
     "output_type": "execute_result"
    }
   ],
   "source": [
    "U = T or U = S;"
   ]
  },
  {
   "cell_type": "markdown",
   "metadata": {},
   "source": [
    "### Construction by gaps\n",
    "\n",
    "**Definition:** The complement of a numerical semigroup in $\\mathbb{N}$ is called its set of *gaps*.\n",
    "\n",
    "A numerical semigroup can be constructed in `NumericalSgps` from its gaps."
   ]
  },
  {
   "cell_type": "code",
   "execution_count": 8,
   "metadata": {},
   "outputs": [
    {
     "data": {
      "text/plain": [
       "Numerical semigroup"
      ]
     },
     "execution_count": 8,
     "metadata": {
      "text/plain": ""
     },
     "output_type": "execute_result"
    }
   ],
   "source": [
    "V := NumericalSemigroupByGaps([1, 2, 4]);"
   ]
  },
  {
   "cell_type": "code",
   "execution_count": 9,
   "metadata": {},
   "outputs": [
    {
     "data": {
      "text/plain": [
       "[ 3, 5 ]"
      ]
     },
     "execution_count": 9,
     "metadata": {
      "text/plain": ""
     },
     "output_type": "execute_result"
    }
   ],
   "source": [
    "Filtered([1 .. 5], n -> n in V);"
   ]
  },
  {
   "cell_type": "code",
   "execution_count": 10,
   "metadata": {},
   "outputs": [
    {
     "data": {
      "text/plain": [
       "true"
      ]
     },
     "execution_count": 10,
     "metadata": {
      "text/plain": ""
     },
     "output_type": "execute_result"
    }
   ],
   "source": [
    "U = V;"
   ]
  },
  {
   "cell_type": "code",
   "execution_count": 11,
   "metadata": {},
   "outputs": [
    {
     "data": {
      "text/plain": [
       "Numerical semigroup"
      ]
     },
     "execution_count": 11,
     "metadata": {
      "text/plain": ""
     },
     "output_type": "execute_result"
    }
   ],
   "source": [
    "Q := NumericalSemigroupByGaps([1, 3]);"
   ]
  },
  {
   "cell_type": "markdown",
   "metadata": {},
   "source": [
    "#### Intersections:"
   ]
  },
  {
   "cell_type": "code",
   "execution_count": 12,
   "metadata": {},
   "outputs": [
    {
     "data": {
      "text/plain": [
       "Numerical semigroup"
      ]
     },
     "execution_count": 12,
     "metadata": {
      "text/plain": ""
     },
     "output_type": "execute_result"
    }
   ],
   "source": [
    "QnV := Intersection(Q, V);"
   ]
  },
  {
   "cell_type": "code",
   "execution_count": 13,
   "metadata": {},
   "outputs": [
    {
     "data": {
      "text/plain": [
       "[ 1, 2, 3, 4 ]"
      ]
     },
     "execution_count": 13,
     "metadata": {
      "text/plain": ""
     },
     "output_type": "execute_result"
    }
   ],
   "source": [
    "Gaps(QnV);"
   ]
  },
  {
   "cell_type": "markdown",
   "metadata": {},
   "source": [
    "#### Computing gaps from generators, and generators from gaps:"
   ]
  },
  {
   "cell_type": "code",
   "execution_count": 14,
   "metadata": {},
   "outputs": [
    {
     "data": {
      "text/plain": [
       "Numerical semigroup with 3 generators"
      ]
     },
     "execution_count": 14,
     "metadata": {
      "text/plain": ""
     },
     "output_type": "execute_result"
    }
   ],
   "source": [
    "W := NumericalSemigroup(5, 9, 17);"
   ]
  },
  {
   "cell_type": "code",
   "execution_count": 15,
   "metadata": {},
   "outputs": [
    {
     "data": {
      "text/plain": [
       "[ 1, 2, 3, 4, 6, 7, 8, 11, 12, 13, 16, 21 ]"
      ]
     },
     "execution_count": 15,
     "metadata": {
      "text/plain": ""
     },
     "output_type": "execute_result"
    }
   ],
   "source": [
    "gaps := Gaps(W);"
   ]
  },
  {
   "cell_type": "code",
   "execution_count": 16,
   "metadata": {},
   "outputs": [
    {
     "data": {
      "text/plain": [
       "Numerical semigroup"
      ]
     },
     "execution_count": 16,
     "metadata": {
      "text/plain": ""
     },
     "output_type": "execute_result"
    }
   ],
   "source": [
    "Y := NumericalSemigroupByGaps(gaps);"
   ]
  },
  {
   "cell_type": "code",
   "execution_count": 17,
   "metadata": {},
   "outputs": [
    {
     "data": {
      "text/plain": [
       "[ 5, 9, 17 ]"
      ]
     },
     "execution_count": 17,
     "metadata": {
      "text/plain": ""
     },
     "output_type": "execute_result"
    }
   ],
   "source": [
    "Generators(Y);"
   ]
  },
  {
   "cell_type": "markdown",
   "metadata": {},
   "source": [
    "# Exercises for `NumericalSgps`"
   ]
  },
  {
   "cell_type": "markdown",
   "metadata": {},
   "source": [
    "1. Given a numerical semigroup `S` defined by a set of generators, compute the gaps of `S`."
   ]
  },
  {
   "cell_type": "markdown",
   "metadata": {},
   "source": [
    "2. Given a numerical semigroup `S` defined by a set of gaps, compute a generating set for `S`."
   ]
  },
  {
   "cell_type": "markdown",
   "metadata": {},
   "source": [
    "3. Given a numerical semigroup `S` defined by a set of generators, compute the minimal generating set for `S`."
   ]
  },
  {
   "cell_type": "markdown",
   "metadata": {},
   "source": [
    "4. If $1$, $2$, and $4$ are the gaps in a numerical semigroup, then the fact that $1$ and $2$ are gaps can be deduced from the fact that $4$ is a gap. Why? Write a function which, given the set of gaps of a numerical semigroup, returns the smallest subset from which all other gaps can be deduced. These are called the *Fundamental gaps*"
   ]
  },
  {
   "cell_type": "code",
   "execution_count": null,
   "metadata": {},
   "outputs": [],
   "source": []
  }
 ],
 "metadata": {
  "kernelspec": {
   "display_name": "GAP 4",
   "language": "gap",
   "name": "gap-4"
  },
  "language_info": {
   "codemirror_mode": "gap",
   "file_extension": ".g",
   "mimetype": "text/x-gap",
   "name": "GAP 4",
   "nbconvert_exporter": "",
   "pygments_lexer": "gap",
   "version": "4.dev"
  }
 },
 "nbformat": 4,
 "nbformat_minor": 2
}
