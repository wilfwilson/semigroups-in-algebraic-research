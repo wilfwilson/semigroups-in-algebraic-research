{
 "cells": [
  {
   "cell_type": "markdown",
   "metadata": {},
   "source": [
    "*“Computing with semigroups in GAP”* by [Wilf Wilson](http://wilf.me)<br />\n",
    "*“[GAP in Algebraic Research](https://lbfm-rwth.github.io/gap-in-algebraic-research-2018/)” summer school*<br />\n",
    "19<sup>th</sup> to 22<sup>nd</sup> November 2018<br />\n",
    "https://github.com/wilfwilson/semigroups-in-algebraic-research\n",
    "([Link to Binder](https://mybinder.org/v2/gh/wilfwilson/semigroups-in-algebraic-research/master))"
   ]
  },
  {
   "cell_type": "markdown",
   "metadata": {},
   "source": [
    "# Some advertising!"
   ]
  },
  {
   "cell_type": "markdown",
   "metadata": {},
   "source": [
    "## 1: GAP Days Spring 2019"
   ]
  },
  {
   "cell_type": "markdown",
   "metadata": {},
   "source": [
    "https://www.gapdays.de/gapdays2019-spring"
   ]
  },
  {
   "cell_type": "markdown",
   "metadata": {},
   "source": [
    "#### What are GAP Days?"
   ]
  },
  {
   "cell_type": "markdown",
   "metadata": {},
   "source": [
    "* “GAP Days” are meetings for working on GAP and its packages.\n",
    "* They are an opportunity to meet others who are interested in, or involved with, GAP.\n",
    "* There are usually a few talks.\n",
    "* They are useful for:\n",
    "  * Package authors and contributors\n",
    "  * Contributors to GAP itself (GAP is an open source project!)\n",
    "  * Those who are interested in becoming such authors or contributors\n",
    "  * Users who want to know more about GAP\n",
    "* *Getting people together in one room is **really** useful.*"
   ]
  },
  {
   "cell_type": "markdown",
   "metadata": {},
   "source": [
    "#### My experience with GAP Days"
   ]
  },
  {
   "cell_type": "markdown",
   "metadata": {},
   "source": [
    "* I went to my first GAP Days as a first-year PhD student in 2015.\n",
    "  * http://gapdays.de/gapdays2015-spring\n",
    "  * [Here is proof that I was there](https://www.gapdays.de/gapdays2015-spring/photos/GAP_Days_2015-spring_photo.jpg)!\n",
    "\n",
    "* I was still relatively new to GAP.\n",
    "* I learned about HPC-GAP, found some bugs, and continued my work on the `Semigroups` and `Digraphs` packages.\n",
    "* It was *really really* useful to meet people and make connections.\n",
    "* It definitely encouraged me to begin contributing to GAP itself."
   ]
  },
  {
   "cell_type": "markdown",
   "metadata": {},
   "source": [
    "#### The next GAP Days"
   ]
  },
  {
   "cell_type": "markdown",
   "metadata": {},
   "source": [
    "* **Date:** 18<sup>th</sup> to 22<sup>nd</sup> March 2019\n",
    "* **Location:** Halle (Saale), which is in eastern Germany\n",
    "* **Organised by:**\n",
    "  * me and Rebecca Waldecker (Halle),\n",
    "  * Markus Pfeiffer and Chris Jefferson (St Andrews)."
   ]
  },
  {
   "cell_type": "markdown",
   "metadata": {},
   "source": [
    "### **Theme:** “Modern Permutation Group Algorithms”"
   ]
  },
  {
   "cell_type": "markdown",
   "metadata": {},
   "source": [
    "* It's nice to have a rough theme for a GAP Days.\n",
    "* We hope to understand and improve (or identify for improvement) some of the algorithms for computing with permutation groups in GAP.\n",
    "* This is not meant to be restrictive: people will be doing other stuff too."
   ]
  },
  {
   "cell_type": "markdown",
   "metadata": {},
   "source": [
    "Everyone is welcome!"
   ]
  },
  {
   "cell_type": "markdown",
   "metadata": {},
   "source": [
    "Registration has just opened: https://www.gapdays.de/gapdays2019-spring/registration"
   ]
  },
  {
   "cell_type": "markdown",
   "metadata": {},
   "source": [
    "## 2: Summer school on matrix group recognition"
   ]
  },
  {
   "cell_type": "markdown",
   "metadata": {},
   "source": [
    "A lot of effort has been spent developing techniques for computing with groups of matrices over finite fields. This is an interesting but difficult topic, and there is more work to be done: it would be great to get more people interested and involved.\n",
    "\n",
    "* Organised by Alice Niemeyer (RWTH Aachen) and Rebecca Waldecker (MLU Halle)\n",
    "* The preparations are at an early stage\n",
    "* In Aachen\n",
    "* Hopefully in 2019\n",
    "\n",
    "If you might be interested in this summer school, please get in touch with me or Rebecca, and we will you send you more details when they become known.\n",
    "\n",
    "me: wilfred.wilson@mathematik.uni-halle.de\n",
    "<br />\n",
    "Rebecca: rebecca.waldecker@mathematik.uni-halle.de"
   ]
  },
  {
   "cell_type": "markdown",
   "metadata": {},
   "source": [
    "## 3: A potential job opportunity"
   ]
  },
  {
   "cell_type": "markdown",
   "metadata": {},
   "source": [
    "Rebecca Waldecker (my boss) hopes to soon have the money to employ someone to **create an online library of difficult problems in computational group theory**, and perhaps in computational algebra more generally.\n",
    "Rebecca likes to call it a “zoo”.\n",
    "\n",
    "**The rough idea**\n",
    "\n",
    "The exact specifications would require a lot of careful thought. It would involve learning about lots of different problems, and talking to lots of different researchers.\n",
    "\n",
    "* Quantify the current limits of computation for a problem\n",
    "  * List examples of a problem at, or beyond, the current limits\n",
    "* Document the “hard” and “easy” cases of a problem more generally\n",
    "* Highlight particular areas for improvement\n",
    "\n",
    "**Why would this be a useful resource for the community?**\n",
    "\n",
    "* To know what progress has been made\n",
    "* To know what to aim for\n",
    "* To know when one has made progress\n",
    "\n",
    "**Details:**\n",
    "\n",
    "* A half-time (50%) job\n",
    "* In Halle (Saale)\n",
    "* For 1 year\n",
    "\n",
    "Perhaps suitable for someone after their Bachelors or Masters degree, who has not yet decided whether to continue into research. Or anyone who is interested, really!\n",
    "\n",
    "If you, or someone you know, might be interested in this, feel free to let them know, and/or get in touch.\n",
    "\n",
    "me: wilfred.wilson@mathematik.uni-halle.de\n",
    "<br />\n",
    "Rebecca: rebecca.waldecker@mathematik.uni-halle.de"
   ]
  }
 ],
 "metadata": {
  "kernelspec": {
   "display_name": "GAP 4",
   "language": "gap",
   "name": "gap-4"
  },
  "language_info": {
   "codemirror_mode": "gap",
   "file_extension": ".g",
   "mimetype": "text/x-gap",
   "name": "GAP 4",
   "nbconvert_exporter": "",
   "pygments_lexer": "gap",
   "version": "4.dev"
  }
 },
 "nbformat": 4,
 "nbformat_minor": 2
}
